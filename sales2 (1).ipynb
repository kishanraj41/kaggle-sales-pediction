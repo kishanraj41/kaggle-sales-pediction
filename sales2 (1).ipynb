{
 "cells": [
  {
   "cell_type": "code",
   "execution_count": 1,
   "metadata": {
    "_cell_guid": "b1076dfc-b9ad-4769-8c92-a6c4dae69d19",
    "_uuid": "8f2839f25d086af736a60e9eeb907d3b93b6e0e5"
   },
   "outputs": [
    {
     "name": "stdout",
     "output_type": "stream",
     "text": [
      "/kaggle/input/competitive-data-science-predict-future-sales/items.csv\n",
      "/kaggle/input/competitive-data-science-predict-future-sales/sales_train.csv\n",
      "/kaggle/input/competitive-data-science-predict-future-sales/item_categories.csv\n",
      "/kaggle/input/competitive-data-science-predict-future-sales/test.csv\n",
      "/kaggle/input/competitive-data-science-predict-future-sales/shops.csv\n",
      "/kaggle/input/competitive-data-science-predict-future-sales/sample_submission.csv\n"
     ]
    }
   ],
   "source": [
    "# This Python 3 environment comes with many helpful analytics libraries installed\n",
    "# It is defined by the kaggle/python Docker image: https://github.com/kaggle/docker-python\n",
    "# For example, here's several helpful packages to load\n",
    "\n",
    "import numpy as np # linear algebra\n",
    "import pandas as pd # data processing, CSV file I/O (e.g. pd.read_csv)\n",
    "\n",
    "# Input data files are available in the read-only \"../input/\" directory\n",
    "# For example, running this (by clicking run or pressing Shift+Enter) will list all files under the input directory\n",
    "\n",
    "import os\n",
    "for dirname, _, filenames in os.walk('/kaggle/input'):\n",
    "    for filename in filenames:\n",
    "        print(os.path.join(dirname, filename))\n",
    "\n",
    "# You can write up to 5GB to the current directory (/kaggle/working/) that gets preserved as output when you create a version using \"Save & Run All\" \n",
    "# You can also write temporary files to /kaggle/temp/, but they won't be saved outside of the current session"
   ]
  },
  {
   "cell_type": "code",
   "execution_count": 2,
   "metadata": {
    "_cell_guid": "79c7e3d0-c299-4dcb-8224-4455121ee9b0",
    "_uuid": "d629ff2d2480ee46fbb7e2d37f6b5fab8052498a"
   },
   "outputs": [],
   "source": [
    "import pandas as pd\n",
    "import numpy as np\n",
    "import seaborn as sns\n",
    "import matplotlib\n",
    "import matplotlib.pyplot as plt\n",
    "import warnings\n",
    "import xgboost as xgb\n",
    "import lightgbm as lgb\n",
    "from scipy.stats import skew\n",
    "from scipy import stats\n",
    "from scipy.stats.stats import pearsonr\n",
    "from scipy.stats import norm\n",
    "from collections import Counter\n",
    "from sklearn.linear_model import LinearRegression,LassoCV, Ridge, LassoLarsCV,ElasticNetCV\n",
    "from sklearn.model_selection import GridSearchCV, cross_val_score, learning_curve\n",
    "from sklearn.ensemble import RandomForestRegressor, AdaBoostRegressor, ExtraTreesRegressor, GradientBoostingRegressor\n",
    "from sklearn.preprocessing import StandardScaler, Normalizer, RobustScaler\n",
    "warnings.filterwarnings('ignore')\n",
    "sns.set(style='white', context='notebook', palette='deep')\n",
    "%config InlineBackend.figure_format = 'retina' #set 'png' here when working on notebook\n",
    "%matplotlib inline\n",
    "from math import sqrt\n",
    "from numpy import loadtxt\n",
    "from itertools import product\n",
    "from tqdm import tqdm\n",
    "from sklearn import preprocessing\n",
    "from xgboost import plot_tree\n",
    "from matplotlib import pyplot\n",
    "\n",
    "from sklearn.model_selection import train_test_split\n",
    "from sklearn.metrics import accuracy_score\n",
    "from sklearn.metrics import mean_squared_error\n",
    "from sklearn.model_selection import KFold\n",
    "from sklearn.feature_extraction.text import TfidfVectorizer\n",
    "import time\n",
    "import gc"
   ]
  },
  {
   "cell_type": "code",
   "execution_count": 3,
   "metadata": {},
   "outputs": [],
   "source": [
    "from sklearn.model_selection import train_test_split\n",
    "from sklearn.metrics import accuracy_score\n",
    "from sklearn.metrics import mean_squared_error\n",
    "from sklearn.model_selection import KFold\n",
    "from sklearn.feature_extraction.text import TfidfVectorizer\n",
    "\n",
    "kernel_with_output = True"
   ]
  },
  {
   "cell_type": "code",
   "execution_count": 4,
   "metadata": {},
   "outputs": [],
   "source": [
    "# Load train and Test set\n",
    "sales_train = pd.read_csv(\"/kaggle/input/competitive-data-science-predict-future-sales/sales_train.csv\")\n",
    "test = pd.read_csv(\"/kaggle/input/competitive-data-science-predict-future-sales/test.csv\")\n",
    "shop= pd.read_csv(\"/kaggle/input/competitive-data-science-predict-future-sales/shops.csv\")\n",
    "items = pd.read_csv(\"/kaggle/input/competitive-data-science-predict-future-sales/items.csv\")\n",
    "item_cat = pd.read_csv(\"/kaggle/input/competitive-data-science-predict-future-sales/item_categories.csv\")"
   ]
  },
  {
   "cell_type": "code",
   "execution_count": 5,
   "metadata": {},
   "outputs": [],
   "source": [
    "def reduce_mem_usage(df, verbose=True):\n",
    "    numerics = ['int16', 'int32', 'int64', 'float16', 'float32', 'float64']\n",
    "    start_mem = df.memory_usage().sum() / 1024**2    \n",
    "    for col in df.columns:\n",
    "        col_type = df[col].dtypes\n",
    "        if col_type in numerics:\n",
    "            c_min = df[col].min()\n",
    "            c_max = df[col].max()\n",
    "            if str(col_type)[:3] == 'int':\n",
    "                if c_min > np.iinfo(np.int8).min and c_max < np.iinfo(np.int8).max:\n",
    "                    df[col] = df[col].astype(np.int8)\n",
    "                elif c_min > np.iinfo(np.int16).min and c_max < np.iinfo(np.int16).max:\n",
    "                    df[col] = df[col].astype(np.int16)\n",
    "                elif c_min > np.iinfo(np.int32).min and c_max < np.iinfo(np.int32).max:\n",
    "                    df[col] = df[col].astype(np.int32)\n",
    "                elif c_min > np.iinfo(np.int64).min and c_max < np.iinfo(np.int64).max:\n",
    "                    df[col] = df[col].astype(np.int64)  \n",
    "            else:\n",
    "                if c_min > np.finfo(np.float16).min and c_max < np.finfo(np.float16).max:\n",
    "                    df[col] = df[col].astype(np.float16)\n",
    "                elif c_min > np.finfo(np.float32).min and c_max < np.finfo(np.float32).max:\n",
    "                    df[col] = df[col].astype(np.float32)\n",
    "                else:\n",
    "                    df[col] = df[col].astype(np.float64)    \n",
    "    end_mem = df.memory_usage().sum() / 1024**2\n",
    "    if verbose: print('Mem. usage decreased to {:5.2f} Mb ({:.1f}% reduction)'.format(end_mem, 100 * (start_mem - end_mem) / start_mem))\n",
    "    return df"
   ]
  },
  {
   "cell_type": "code",
   "execution_count": 6,
   "metadata": {},
   "outputs": [
    {
     "name": "stdout",
     "output_type": "stream",
     "text": [
      "Mem. usage decreased to 50.40 Mb (62.5% reduction)\n",
      "Mem. usage decreased to  1.43 Mb (70.8% reduction)\n",
      "Mem. usage decreased to  0.00 Mb (38.6% reduction)\n",
      "Mem. usage decreased to  0.23 Mb (54.2% reduction)\n",
      "Mem. usage decreased to  0.00 Mb (39.9% reduction)\n"
     ]
    }
   ],
   "source": [
    "sales_train = reduce_mem_usage(sales_train)\n",
    "test = reduce_mem_usage(test)\n",
    "shop = reduce_mem_usage(shop)\n",
    "items = reduce_mem_usage(items)\n",
    "item_cat = reduce_mem_usage(item_cat)"
   ]
  },
  {
   "cell_type": "code",
   "execution_count": 7,
   "metadata": {},
   "outputs": [],
   "source": [
    "if kernel_with_output:\n",
    "    # For every month we create a grid from all shops/items combinations from that month\n",
    "    grid = []\n",
    "    for block_num in sales_train['date_block_num'].unique():\n",
    "        cur_shops = sales_train[sales_train['date_block_num']==block_num]['shop_id'].unique()\n",
    "        cur_items = sales_train[sales_train['date_block_num']==block_num]['item_id'].unique()\n",
    "        grid.append(np.array(list(product(*[cur_shops, cur_items, [block_num]])),dtype='int32'))\n",
    "    index_cols = ['shop_id', 'item_id', 'date_block_num']\n",
    "    grid = pd.DataFrame(np.vstack(grid), columns = index_cols,dtype=np.int32)\n",
    "\n",
    "    # Aggregations\n",
    "    sales_train['item_cnt_day'] = sales_train['item_cnt_day'].clip(0,20)\n",
    "    groups = sales_train.groupby(['shop_id', 'item_id', 'date_block_num'])\n",
    "    trainset = groups.agg({'item_cnt_day':'sum', 'item_price':'mean'}).reset_index()\n",
    "    trainset = trainset.rename(columns = {'item_cnt_day' : 'item_cnt_month'})\n",
    "    trainset['item_cnt_month'] = trainset['item_cnt_month'].clip(0,20)\n",
    "\n",
    "    trainset = pd.merge(grid,trainset,how='left',on=index_cols)\n",
    "    trainset.item_cnt_month = trainset.item_cnt_month.fillna(0)\n",
    "\n",
    "    # Get category id\n",
    "    trainset = pd.merge(trainset, items[['item_id', 'item_category_id']], on = 'item_id')\n",
    "    trainset.to_csv('trainset_with_grid.csv')\n",
    "\n",
    "    trainset.head()"
   ]
  },
  {
   "cell_type": "code",
   "execution_count": 8,
   "metadata": {},
   "outputs": [],
   "source": [
    "#if kernel_with_output:\n",
    "    #prev_month_selector = (trainset.date_block_num==33)\n",
    "    #train_subset = trainset[prev_month_selector]\n",
    "   # groups = train_subset[['shop_id', 'item_id', 'item_cnt_month']].groupby(by = ['shop_id', 'item_id'])\n",
    "   # train_subset = groups.agg({'item_cnt_month':'sum'}).reset_index()\n",
    "   # train_subset.head(3)"
   ]
  },
  {
   "cell_type": "code",
   "execution_count": 9,
   "metadata": {},
   "outputs": [],
   "source": [
    "#if kernel_with_output:\n",
    "   # merged = test.merge(train_subset, on=[\"shop_id\", \"item_id\"], how=\"left\")[[\"ID\", \"item_cnt_month\"]]\n",
    "    #merged.isna().sum()"
   ]
  },
  {
   "cell_type": "code",
   "execution_count": 10,
   "metadata": {},
   "outputs": [
    {
     "data": {
      "text/plain": [
       "64"
      ]
     },
     "execution_count": 10,
     "metadata": {},
     "output_type": "execute_result"
    }
   ],
   "source": [
    "gc.collect()"
   ]
  },
  {
   "cell_type": "code",
   "execution_count": 11,
   "metadata": {},
   "outputs": [],
   "source": [
    "#if kernel_with_output:\n",
    "   # merged['item_cnt_month'] = merged.item_cnt_month.fillna(0).clip(0,20)\n",
    "   # submission = merged.set_index('ID')\n",
    "   # submission.to_csv('benchmark.csv')"
   ]
  },
  {
   "cell_type": "code",
   "execution_count": 12,
   "metadata": {},
   "outputs": [],
   "source": [
    "#del merged\n",
    "#del train_subset\n"
   ]
  },
  {
   "cell_type": "code",
   "execution_count": 13,
   "metadata": {},
   "outputs": [
    {
     "data": {
      "text/plain": [
       "60"
      ]
     },
     "execution_count": 13,
     "metadata": {},
     "output_type": "execute_result"
    }
   ],
   "source": [
    "gc.collect()"
   ]
  },
  {
   "cell_type": "code",
   "execution_count": 14,
   "metadata": {},
   "outputs": [],
   "source": [
    "if kernel_with_output:\n",
    "    # Extract features and target we want\n",
    "    baseline_features = ['shop_id', 'item_id', 'item_category_id', 'date_block_num', 'item_cnt_month']\n",
    "    train = trainset[baseline_features]\n",
    "    # Remove pandas index column\n",
    "    train = train.set_index('shop_id')\n",
    "    train.item_cnt_month = train.item_cnt_month.astype(int)\n",
    "    train['item_cnt_month'] = train.item_cnt_month.fillna(0).clip(0,20)\n",
    "    # Save train set to file\n",
    "    train.to_csv('train.csv')"
   ]
  },
  {
   "cell_type": "code",
   "execution_count": 15,
   "metadata": {},
   "outputs": [],
   "source": [
    "if kernel_with_output:\n",
    "    # Set seeds and options\n",
    "    np.random.seed(10)\n",
    "    pd.set_option('display.max_rows', 231)\n",
    "    pd.set_option('display.max_columns', 100)\n",
    "\n",
    "    # Feature engineering list\n",
    "    new_features = []\n",
    "    enable_feature_idea = [True, True, True, True, True, True, True, True, True, True]\n",
    "\n",
    "    # Some parameters(maybe add more periods, score will be better) [1,2,3,12]\n",
    "    lookback_range = [1,2,3,4,5,6,7,8,9,10,11,12]\n",
    "\n",
    "    tqdm.pandas()\n"
   ]
  },
  {
   "cell_type": "code",
   "execution_count": 16,
   "metadata": {},
   "outputs": [
    {
     "data": {
      "text/plain": [
       "75"
      ]
     },
     "execution_count": 16,
     "metadata": {},
     "output_type": "execute_result"
    }
   ],
   "source": [
    "gc.collect()"
   ]
  },
  {
   "cell_type": "code",
   "execution_count": 17,
   "metadata": {},
   "outputs": [
    {
     "name": "stdout",
     "output_type": "stream",
     "text": [
      "Loading test set...\n",
      "Merging with other datasets...\n",
      "Took 10 seconds to train and predict val set\n"
     ]
    }
   ],
   "source": [
    "if kernel_with_output:\n",
    "    current = time.time()\n",
    "\n",
    "    trainset = pd.read_csv('trainset_with_grid.csv')\n",
    "    items = pd.read_csv('/kaggle/input/competitive-data-science-predict-future-sales/items.csv')\n",
    "    shops = pd.read_csv('/kaggle/input/competitive-data-science-predict-future-sales/shops.csv')\n",
    "\n",
    "\n",
    "    # Only use more recent data\n",
    "    start_month = 0\n",
    "    end_month = 33\n",
    "    trainset = trainset[['shop_id', 'item_id', 'item_category_id', 'date_block_num', 'item_price', 'item_cnt_month']]\n",
    "    trainset = trainset[(trainset.date_block_num >= start_month) & (trainset.date_block_num <= end_month)]\n",
    "\n",
    "    print('Loading test set...')\n",
    "    test_dataset = loadtxt('/kaggle/input/competitive-data-science-predict-future-sales/test.csv', delimiter=\",\" ,skiprows=1, usecols = (1,2), dtype=int)\n",
    "    testset = pd.DataFrame(test_dataset, columns = ['shop_id', 'item_id'])\n",
    "\n",
    "    print('Merging with other datasets...')\n",
    "    # Get item category id into test_df\n",
    "    testset = testset.merge(items[['item_id', 'item_category_id']], on = 'item_id', how = 'left')\n",
    "    testset['date_block_num'] = 34\n",
    "    # Make testset contains same column as trainset so we can concatenate them row-wise\n",
    "    testset['item_cnt_month'] = -1\n",
    "\n",
    "    train_test_set = pd.concat([trainset, testset], axis = 0) \n",
    "\n",
    "    end = time.time()\n",
    "    diff = end - current\n",
    "    print('Took ' + str(int(diff)) + ' seconds to train and predict val set')"
   ]
  },
  {
   "cell_type": "code",
   "execution_count": 18,
   "metadata": {},
   "outputs": [
    {
     "data": {
      "text/plain": [
       "20"
      ]
     },
     "execution_count": 18,
     "metadata": {},
     "output_type": "execute_result"
    }
   ],
   "source": [
    "del end_month\n",
    "del start_month\n",
    "gc.collect()"
   ]
  },
  {
   "cell_type": "code",
   "execution_count": 19,
   "metadata": {},
   "outputs": [],
   "source": [
    "if kernel_with_output:\n",
    "    item_cat = pd.read_csv('/kaggle/input/competitive-data-science-predict-future-sales/item_categories.csv')\n",
    "\n",
    "    # Fix category\n",
    "    l_cat = list(item_cat.item_category_name)\n",
    "    for ind in range(0,1):\n",
    "        l_cat[ind] = 'PC Headsets / Headphones'\n",
    "    for ind in range(1,8):\n",
    "        l_cat[ind] = 'Access'\n",
    "    l_cat[8] = 'Tickets (figure)'\n",
    "    l_cat[9] = 'Delivery of goods'\n",
    "    for ind in range(10,18):\n",
    "        l_cat[ind] = 'Consoles'\n",
    "    for ind in range(18,25):\n",
    "        l_cat[ind] = 'Consoles Games'\n",
    "    l_cat[25] = 'Accessories for games'\n",
    "    for ind in range(26,28):\n",
    "        l_cat[ind] = 'phone games'\n",
    "    for ind in range(28,32):\n",
    "        l_cat[ind] = 'CD games'\n",
    "    for ind in range(32,37):\n",
    "        l_cat[ind] = 'Card'\n",
    "    for ind in range(37,43):\n",
    "        l_cat[ind] = 'Movie'\n",
    "    for ind in range(43,55):\n",
    "        l_cat[ind] = 'Books'\n",
    "    for ind in range(55,61):\n",
    "        l_cat[ind] = 'Music'\n",
    "    for ind in range(61,73):\n",
    "        l_cat[ind] = 'Gifts'\n",
    "    for ind in range(73,79):\n",
    "        l_cat[ind] = 'Soft'\n",
    "    for ind in range(79,81):\n",
    "        l_cat[ind] = 'Office'\n",
    "    for ind in range(81,83):\n",
    "        l_cat[ind] = 'Clean'\n",
    "    l_cat[83] = 'Elements of a food'\n",
    "\n",
    "    lb = preprocessing.LabelEncoder()\n",
    "    item_cat['item_category_id_fix'] = lb.fit_transform(l_cat)\n",
    "    item_cat['item_category_name_fix'] = l_cat\n",
    "    train_test_set = train_test_set.merge(item_cat[['item_category_id', 'item_category_id_fix']], on = 'item_category_id', how = 'left')\n",
    "    _ = train_test_set.drop(['item_category_id'],axis=1, inplace=True)\n",
    "    train_test_set.rename(columns = {'item_category_id_fix':'item_category_id'}, inplace = True)\n",
    "\n",
    "    _ = item_cat.drop(['item_category_id'],axis=1, inplace=True)\n",
    "    _ = item_cat.drop(['item_category_name'],axis=1, inplace=True)\n",
    "\n",
    "    item_cat.rename(columns = {'item_category_id_fix':'item_category_id'}, inplace = True)\n",
    "    item_cat.rename(columns = {'item_category_name_fix':'item_category_name'}, inplace = True)\n",
    "    item_cat = item_cat.drop_duplicates()\n",
    "    item_cat.index = np.arange(0, len(item_cat))"
   ]
  },
  {
   "cell_type": "code",
   "execution_count": 20,
   "metadata": {},
   "outputs": [
    {
     "data": {
      "text/plain": [
       "20"
      ]
     },
     "execution_count": 20,
     "metadata": {},
     "output_type": "execute_result"
    }
   ],
   "source": [
    "gc.collect()"
   ]
  },
  {
   "cell_type": "code",
   "execution_count": 21,
   "metadata": {},
   "outputs": [
    {
     "name": "stderr",
     "output_type": "stream",
     "text": [
      "100%|██████████| 12/12 [02:12<00:00, 11.06s/it]\n"
     ]
    }
   ],
   "source": [
    "if kernel_with_output:\n",
    "    if enable_feature_idea[0]:\n",
    "        for diff in tqdm(lookback_range):\n",
    "            feature_name = 'prev_shopitem_sales_' + str(diff)\n",
    "            trainset2 = train_test_set.copy()\n",
    "            trainset2.loc[:, 'date_block_num'] += diff\n",
    "            trainset2.rename(columns={'item_cnt_month': feature_name}, inplace=True)\n",
    "            train_test_set = train_test_set.merge(trainset2[['shop_id', 'item_id', 'date_block_num', feature_name]], on = ['shop_id', 'item_id', 'date_block_num'], how = 'left')\n",
    "            train_test_set[feature_name] = train_test_set[feature_name].fillna(0)\n",
    "            new_features.append(feature_name)\n",
    "    train_test_set.head(3)"
   ]
  },
  {
   "cell_type": "code",
   "execution_count": 22,
   "metadata": {},
   "outputs": [],
   "source": [
    "del trainset2"
   ]
  },
  {
   "cell_type": "code",
   "execution_count": 23,
   "metadata": {},
   "outputs": [
    {
     "data": {
      "text/plain": [
       "40"
      ]
     },
     "execution_count": 23,
     "metadata": {},
     "output_type": "execute_result"
    }
   ],
   "source": [
    "gc.collect()"
   ]
  },
  {
   "cell_type": "code",
   "execution_count": 24,
   "metadata": {},
   "outputs": [
    {
     "name": "stderr",
     "output_type": "stream",
     "text": [
      "100%|██████████| 12/12 [00:37<00:00,  3.10s/it]\n"
     ]
    }
   ],
   "source": [
    "if kernel_with_output:\n",
    "    if enable_feature_idea[1]:\n",
    "        groups = train_test_set.groupby(by = ['item_id', 'date_block_num'])\n",
    "        for diff in tqdm(lookback_range):\n",
    "            feature_name = 'prev_item_sales_' + str(diff)\n",
    "            result = groups.agg({'item_cnt_month':'mean'})\n",
    "            result = result.reset_index()\n",
    "            result.loc[:, 'date_block_num'] += diff\n",
    "            result.rename(columns={'item_cnt_month': feature_name}, inplace=True)\n",
    "            train_test_set = train_test_set.merge(result, on = ['item_id', 'date_block_num'], how = 'left')\n",
    "            train_test_set[feature_name] = train_test_set[feature_name].fillna(0)\n",
    "            new_features.append(feature_name)        \n",
    "    train_test_set.head(3)"
   ]
  },
  {
   "cell_type": "code",
   "execution_count": 25,
   "metadata": {},
   "outputs": [],
   "source": [
    "del result\n",
    "del groups"
   ]
  },
  {
   "cell_type": "code",
   "execution_count": 26,
   "metadata": {},
   "outputs": [
    {
     "data": {
      "text/plain": [
       "40"
      ]
     },
     "execution_count": 26,
     "metadata": {},
     "output_type": "execute_result"
    }
   ],
   "source": [
    "gc.collect()"
   ]
  },
  {
   "cell_type": "code",
   "execution_count": 27,
   "metadata": {},
   "outputs": [],
   "source": [
    "#if kernel_with_output:\n",
    "    #if enable_feature_idea[3]:\n",
    "        #groups = train_test_set.groupby(by = ['shop_id', 'item_id', 'date_block_num'])\n",
    "        #for diff in tqdm(lookback_range):\n",
    "            ##feature_name = 'prev_shopitem_price_' + str(diff)\n",
    "            #result = groups.agg({'item_price':'mean'})\n",
    "            #result = result.reset_index()\n",
    "            #result.loc[:, 'date_block_num'] += diff\n",
    "            #result.rename(columns={'item_price': feature_name}, inplace=True)\n",
    "            #train_test_set = train_test_set.merge(result, on = ['shop_id', 'item_id', 'date_block_num'], how = 'left')\n",
    "            #train_test_set[feature_name] = train_test_set[feature_name]\n",
    "            #new_features.append(feature_name)        \n",
    "    #train_test_set.head(3)"
   ]
  },
  {
   "cell_type": "code",
   "execution_count": 28,
   "metadata": {},
   "outputs": [],
   "source": [
    "#del result\n",
    "#del groups\n",
    "#gc.collect()"
   ]
  },
  {
   "cell_type": "code",
   "execution_count": null,
   "metadata": {},
   "outputs": [],
   "source": []
  },
  {
   "cell_type": "code",
   "execution_count": 29,
   "metadata": {},
   "outputs": [],
   "source": [
    "\n",
    "\n",
    "#del groups\n",
    "#gc.collect()\n",
    "#del item_cat\n",
    "#gc.collect()\n",
    "##del l_cat \n",
    "#gc.collect()"
   ]
  },
  {
   "cell_type": "code",
   "execution_count": 30,
   "metadata": {},
   "outputs": [
    {
     "data": {
      "text/plain": [
       "80"
      ]
     },
     "execution_count": 30,
     "metadata": {},
     "output_type": "execute_result"
    }
   ],
   "source": [
    "gc.collect()"
   ]
  },
  {
   "cell_type": "code",
   "execution_count": 31,
   "metadata": {},
   "outputs": [
    {
     "data": {
      "text/plain": [
       "20"
      ]
     },
     "execution_count": 31,
     "metadata": {},
     "output_type": "execute_result"
    }
   ],
   "source": [
    "gc.collect()"
   ]
  },
  {
   "cell_type": "code",
   "execution_count": 32,
   "metadata": {},
   "outputs": [],
   "source": [
    "if kernel_with_output:\n",
    "    items_subset = items[['item_id', 'item_name']]\n",
    "    feature_count = 25\n",
    "    tfidf = TfidfVectorizer(max_features=feature_count)\n",
    "    items_df_item_name_text_features = pd.DataFrame(tfidf.fit_transform(items_subset['item_name']).toarray())\n",
    "\n",
    "    cols = items_df_item_name_text_features.columns\n",
    "    for i in range(feature_count):\n",
    "        feature_name = 'item_name_tfidf_' + str(i)\n",
    "        items_subset[feature_name] = items_df_item_name_text_features[cols[i]]\n",
    "        new_features.append(feature_name)\n",
    "\n",
    "    items_subset.drop('item_name', axis = 1, inplace = True)\n",
    "    train_test_set = train_test_set.merge(items_subset, on = 'item_id', how = 'left')\n",
    "    train_test_set.head()\n",
    "    "
   ]
  },
  {
   "cell_type": "code",
   "execution_count": 33,
   "metadata": {},
   "outputs": [
    {
     "data": {
      "text/plain": [
       "0"
      ]
     },
     "execution_count": 33,
     "metadata": {},
     "output_type": "execute_result"
    }
   ],
   "source": [
    "del items_subset\n",
    "gc.collect()\n",
    "del items_df_item_name_text_features\n",
    "gc.collect()\n",
    "del tfidf\n",
    "gc.collect()\n",
    "del feature_count\n",
    "gc.collect()\n",
    "\n"
   ]
  },
  {
   "cell_type": "code",
   "execution_count": 34,
   "metadata": {},
   "outputs": [
    {
     "data": {
      "text/plain": [
       "['prev_shopitem_sales_1',\n",
       " 'prev_shopitem_sales_2',\n",
       " 'prev_shopitem_sales_3',\n",
       " 'prev_shopitem_sales_4',\n",
       " 'prev_shopitem_sales_5',\n",
       " 'prev_shopitem_sales_6',\n",
       " 'prev_shopitem_sales_7',\n",
       " 'prev_shopitem_sales_8',\n",
       " 'prev_shopitem_sales_9',\n",
       " 'prev_shopitem_sales_10',\n",
       " 'prev_shopitem_sales_11',\n",
       " 'prev_shopitem_sales_12',\n",
       " 'prev_item_sales_1',\n",
       " 'prev_item_sales_2',\n",
       " 'prev_item_sales_3',\n",
       " 'prev_item_sales_4',\n",
       " 'prev_item_sales_5',\n",
       " 'prev_item_sales_6',\n",
       " 'prev_item_sales_7',\n",
       " 'prev_item_sales_8',\n",
       " 'prev_item_sales_9',\n",
       " 'prev_item_sales_10',\n",
       " 'prev_item_sales_11',\n",
       " 'prev_item_sales_12',\n",
       " 'item_name_tfidf_0',\n",
       " 'item_name_tfidf_1',\n",
       " 'item_name_tfidf_2',\n",
       " 'item_name_tfidf_3',\n",
       " 'item_name_tfidf_4',\n",
       " 'item_name_tfidf_5',\n",
       " 'item_name_tfidf_6',\n",
       " 'item_name_tfidf_7',\n",
       " 'item_name_tfidf_8',\n",
       " 'item_name_tfidf_9',\n",
       " 'item_name_tfidf_10',\n",
       " 'item_name_tfidf_11',\n",
       " 'item_name_tfidf_12',\n",
       " 'item_name_tfidf_13',\n",
       " 'item_name_tfidf_14',\n",
       " 'item_name_tfidf_15',\n",
       " 'item_name_tfidf_16',\n",
       " 'item_name_tfidf_17',\n",
       " 'item_name_tfidf_18',\n",
       " 'item_name_tfidf_19',\n",
       " 'item_name_tfidf_20',\n",
       " 'item_name_tfidf_21',\n",
       " 'item_name_tfidf_22',\n",
       " 'item_name_tfidf_23',\n",
       " 'item_name_tfidf_24']"
      ]
     },
     "execution_count": 34,
     "metadata": {},
     "output_type": "execute_result"
    }
   ],
   "source": [
    "new_features"
   ]
  },
  {
   "cell_type": "code",
   "execution_count": 35,
   "metadata": {},
   "outputs": [
    {
     "data": {
      "text/plain": [
       "40"
      ]
     },
     "execution_count": 35,
     "metadata": {},
     "output_type": "execute_result"
    }
   ],
   "source": [
    "\n",
    "\n",
    "gc.collect()"
   ]
  },
  {
   "cell_type": "code",
   "execution_count": 36,
   "metadata": {},
   "outputs": [
    {
     "data": {
      "text/plain": [
       "20"
      ]
     },
     "execution_count": 36,
     "metadata": {},
     "output_type": "execute_result"
    }
   ],
   "source": [
    "gc.collect()"
   ]
  },
  {
   "cell_type": "code",
   "execution_count": 37,
   "metadata": {},
   "outputs": [
    {
     "data": {
      "text/plain": [
       "20"
      ]
     },
     "execution_count": 37,
     "metadata": {},
     "output_type": "execute_result"
    }
   ],
   "source": [
    "gc.collect()"
   ]
  },
  {
   "cell_type": "code",
   "execution_count": 38,
   "metadata": {},
   "outputs": [
    {
     "name": "stdout",
     "output_type": "stream",
     "text": [
      "Mem. usage decreased to 1241.67 Mb (73.9% reduction)\n"
     ]
    }
   ],
   "source": [
    "train_test_set= reduce_mem_usage(train_test_set)"
   ]
  },
  {
   "cell_type": "code",
   "execution_count": 39,
   "metadata": {},
   "outputs": [],
   "source": [
    "#train_test_set.to_csv('train_test_set.csv')"
   ]
  },
  {
   "cell_type": "code",
   "execution_count": 40,
   "metadata": {},
   "outputs": [
    {
     "data": {
      "text/plain": [
       "<bound method NDFrame.describe of           shop_id  item_id  date_block_num  item_price  item_cnt_month  \\\n",
       "0              59    22154               0       999.0             1.0   \n",
       "1              25    22154               0       999.0             5.0   \n",
       "2              24    22154               0       999.0             1.0   \n",
       "3              23    22154               0         NaN             0.0   \n",
       "4              19    22154               0         NaN             0.0   \n",
       "...           ...      ...             ...         ...             ...   \n",
       "11128045       45    18454              34         NaN            -1.0   \n",
       "11128046       45    16188              34         NaN            -1.0   \n",
       "11128047       45    15757              34         NaN            -1.0   \n",
       "11128048       45    19648              34         NaN            -1.0   \n",
       "11128049       45      969              34         NaN            -1.0   \n",
       "\n",
       "          item_category_id  prev_shopitem_sales_1  prev_shopitem_sales_2  \\\n",
       "0                       11                    0.0                    0.0   \n",
       "1                       11                    0.0                    0.0   \n",
       "2                       11                    0.0                    0.0   \n",
       "3                       11                    0.0                    0.0   \n",
       "4                       11                    0.0                    0.0   \n",
       "...                    ...                    ...                    ...   \n",
       "11128045                12                    1.0                    0.0   \n",
       "11128046                10                    0.0                    0.0   \n",
       "11128047                12                    0.0                    0.0   \n",
       "11128048                11                    0.0                    0.0   \n",
       "11128049                11                    0.0                    0.0   \n",
       "\n",
       "          prev_shopitem_sales_3  prev_shopitem_sales_4  prev_shopitem_sales_5  \\\n",
       "0                           0.0                    0.0                    0.0   \n",
       "1                           0.0                    0.0                    0.0   \n",
       "2                           0.0                    0.0                    0.0   \n",
       "3                           0.0                    0.0                    0.0   \n",
       "4                           0.0                    0.0                    0.0   \n",
       "...                         ...                    ...                    ...   \n",
       "11128045                    0.0                    0.0                    0.0   \n",
       "11128046                    0.0                    0.0                    0.0   \n",
       "11128047                    0.0                    0.0                    0.0   \n",
       "11128048                    0.0                    0.0                    0.0   \n",
       "11128049                    0.0                    0.0                    0.0   \n",
       "\n",
       "          prev_shopitem_sales_6  prev_shopitem_sales_7  prev_shopitem_sales_8  \\\n",
       "0                           0.0                    0.0                    0.0   \n",
       "1                           0.0                    0.0                    0.0   \n",
       "2                           0.0                    0.0                    0.0   \n",
       "3                           0.0                    0.0                    0.0   \n",
       "4                           0.0                    0.0                    0.0   \n",
       "...                         ...                    ...                    ...   \n",
       "11128045                    0.0                    0.0                    1.0   \n",
       "11128046                    0.0                    0.0                    0.0   \n",
       "11128047                    0.0                    0.0                    0.0   \n",
       "11128048                    0.0                    0.0                    0.0   \n",
       "11128049                    0.0                    0.0                    0.0   \n",
       "\n",
       "          prev_shopitem_sales_9  prev_shopitem_sales_10  \\\n",
       "0                           0.0                     0.0   \n",
       "1                           0.0                     0.0   \n",
       "2                           0.0                     0.0   \n",
       "3                           0.0                     0.0   \n",
       "4                           0.0                     0.0   \n",
       "...                         ...                     ...   \n",
       "11128045                    1.0                     2.0   \n",
       "11128046                    0.0                     0.0   \n",
       "11128047                    1.0                     1.0   \n",
       "11128048                    0.0                     0.0   \n",
       "11128049                    0.0                     0.0   \n",
       "\n",
       "          prev_shopitem_sales_11  prev_shopitem_sales_12  prev_item_sales_1  \\\n",
       "0                            0.0                     0.0           0.000000   \n",
       "1                            0.0                     0.0           0.000000   \n",
       "2                            0.0                     0.0           0.000000   \n",
       "3                            0.0                     0.0           0.000000   \n",
       "4                            0.0                     0.0           0.000000   \n",
       "...                          ...                     ...                ...   \n",
       "11128045                     4.0                     0.0           0.045441   \n",
       "11128046                     0.0                     0.0           0.022720   \n",
       "11128047                     0.0                     0.0           0.113647   \n",
       "11128048                     0.0                     0.0           0.045441   \n",
       "11128049                     0.0                     0.0           0.068176   \n",
       "\n",
       "          prev_item_sales_2  prev_item_sales_3  prev_item_sales_4  \\\n",
       "0                  0.000000           0.000000           0.000000   \n",
       "1                  0.000000           0.000000           0.000000   \n",
       "2                  0.000000           0.000000           0.000000   \n",
       "3                  0.000000           0.000000           0.000000   \n",
       "4                  0.000000           0.000000           0.000000   \n",
       "...                     ...                ...                ...   \n",
       "11128045           0.023254           0.071411           0.279053   \n",
       "11128046           0.069763           0.000000           0.000000   \n",
       "11128047           0.069763           0.095215           0.093018   \n",
       "11128048           0.069763           0.166626           0.046509   \n",
       "11128049           0.116272           0.023804           0.046509   \n",
       "\n",
       "          prev_item_sales_5  prev_item_sales_6  prev_item_sales_7  \\\n",
       "0                  0.000000           0.000000           0.000000   \n",
       "1                  0.000000           0.000000           0.000000   \n",
       "2                  0.000000           0.000000           0.000000   \n",
       "3                  0.000000           0.000000           0.000000   \n",
       "4                  0.000000           0.000000           0.000000   \n",
       "...                     ...                ...                ...   \n",
       "11128045           0.441895           0.590820           1.000000   \n",
       "11128046           0.000000           0.000000           0.000000   \n",
       "11128047           0.186035           0.250000           0.148926   \n",
       "11128048           0.093018           0.090881           0.127686   \n",
       "11128049           0.046509           0.068176           0.042542   \n",
       "\n",
       "          prev_item_sales_8  prev_item_sales_9  prev_item_sales_10  \\\n",
       "0                  0.000000           0.000000            0.000000   \n",
       "1                  0.000000           0.000000            0.000000   \n",
       "2                  0.000000           0.000000            0.000000   \n",
       "3                  0.000000           0.000000            0.000000   \n",
       "4                  0.000000           0.000000            0.000000   \n",
       "...                     ...                ...                 ...   \n",
       "11128045           1.956055           2.000000            2.339844   \n",
       "11128046           0.000000           0.000000            0.000000   \n",
       "11128047           0.391357           0.255371            0.199951   \n",
       "11128048           0.086975           0.085083            0.180054   \n",
       "11128049           0.173950           0.148926            0.180054   \n",
       "\n",
       "          prev_item_sales_11  prev_item_sales_12  item_name_tfidf_0  \\\n",
       "0                   0.000000            0.000000                0.0   \n",
       "1                   0.000000            0.000000                0.0   \n",
       "2                   0.000000            0.000000                0.0   \n",
       "3                   0.000000            0.000000                0.0   \n",
       "4                   0.000000            0.000000                0.0   \n",
       "...                      ...                 ...                ...   \n",
       "11128045            2.119141            0.000000                0.0   \n",
       "11128046            0.000000            0.000000                0.0   \n",
       "11128047            0.320068            0.180054                0.0   \n",
       "11128048            0.219971            0.000000                0.0   \n",
       "11128049            0.140015            0.119995                0.0   \n",
       "\n",
       "          item_name_tfidf_1  item_name_tfidf_2  item_name_tfidf_3  \\\n",
       "0                       0.0                0.0           1.000000   \n",
       "1                       0.0                0.0           1.000000   \n",
       "2                       0.0                0.0           1.000000   \n",
       "3                       0.0                0.0           1.000000   \n",
       "4                       0.0                0.0           1.000000   \n",
       "...                     ...                ...                ...   \n",
       "11128045                0.0                0.0           0.000000   \n",
       "11128046                0.0                0.0           0.000000   \n",
       "11128047                0.0                0.0           0.000000   \n",
       "11128048                0.0                0.0           0.000000   \n",
       "11128049                0.0                0.0           0.563965   \n",
       "\n",
       "          item_name_tfidf_4  item_name_tfidf_5  item_name_tfidf_6  \\\n",
       "0                       0.0                0.0                0.0   \n",
       "1                       0.0                0.0                0.0   \n",
       "2                       0.0                0.0                0.0   \n",
       "3                       0.0                0.0                0.0   \n",
       "4                       0.0                0.0                0.0   \n",
       "...                     ...                ...                ...   \n",
       "11128045                0.0                0.0                0.0   \n",
       "11128046                0.0                0.0                0.0   \n",
       "11128047                0.0                0.0                0.0   \n",
       "11128048                0.0                0.0                0.0   \n",
       "11128049                0.0                0.0                0.0   \n",
       "\n",
       "          item_name_tfidf_7  item_name_tfidf_8  item_name_tfidf_9  \\\n",
       "0                       0.0                0.0                0.0   \n",
       "1                       0.0                0.0                0.0   \n",
       "2                       0.0                0.0                0.0   \n",
       "3                       0.0                0.0                0.0   \n",
       "4                       0.0                0.0                0.0   \n",
       "...                     ...                ...                ...   \n",
       "11128045                0.0                0.0                0.0   \n",
       "11128046                0.0                0.0                0.0   \n",
       "11128047                0.0                0.0                0.0   \n",
       "11128048                0.0                0.0                0.0   \n",
       "11128049                0.0                0.0                0.0   \n",
       "\n",
       "          item_name_tfidf_10  item_name_tfidf_11  item_name_tfidf_12  \\\n",
       "0                        0.0                 0.0                 0.0   \n",
       "1                        0.0                 0.0                 0.0   \n",
       "2                        0.0                 0.0                 0.0   \n",
       "3                        0.0                 0.0                 0.0   \n",
       "4                        0.0                 0.0                 0.0   \n",
       "...                      ...                 ...                 ...   \n",
       "11128045                 0.0                 0.0                 0.0   \n",
       "11128046                 0.0                 0.0                 0.0   \n",
       "11128047                 0.0                 0.0                 0.0   \n",
       "11128048                 0.0                 0.0                 0.0   \n",
       "11128049                 0.0                 0.0                 0.0   \n",
       "\n",
       "          item_name_tfidf_13  item_name_tfidf_14  item_name_tfidf_15  \\\n",
       "0                        0.0                 0.0                 0.0   \n",
       "1                        0.0                 0.0                 0.0   \n",
       "2                        0.0                 0.0                 0.0   \n",
       "3                        0.0                 0.0                 0.0   \n",
       "4                        0.0                 0.0                 0.0   \n",
       "...                      ...                 ...                 ...   \n",
       "11128045                 0.0                 0.0                 0.0   \n",
       "11128046                 0.0                 0.0                 0.0   \n",
       "11128047                 0.0                 0.0                 0.0   \n",
       "11128048                 0.0                 0.0                 0.0   \n",
       "11128049                 0.0                 0.0                 0.0   \n",
       "\n",
       "          item_name_tfidf_16  item_name_tfidf_17  item_name_tfidf_18  \\\n",
       "0                        0.0                 0.0                 0.0   \n",
       "1                        0.0                 0.0                 0.0   \n",
       "2                        0.0                 0.0                 0.0   \n",
       "3                        0.0                 0.0                 0.0   \n",
       "4                        0.0                 0.0                 0.0   \n",
       "...                      ...                 ...                 ...   \n",
       "11128045                 0.0                 0.0                 0.0   \n",
       "11128046                 0.0                 0.0                 0.0   \n",
       "11128047                 0.0                 0.0                 1.0   \n",
       "11128048                 0.0                 0.0                 0.0   \n",
       "11128049                 0.0                 0.0                 0.0   \n",
       "\n",
       "          item_name_tfidf_19  item_name_tfidf_20  item_name_tfidf_21  \\\n",
       "0                   0.000000                 0.0                 0.0   \n",
       "1                   0.000000                 0.0                 0.0   \n",
       "2                   0.000000                 0.0                 0.0   \n",
       "3                   0.000000                 0.0                 0.0   \n",
       "4                   0.000000                 0.0                 0.0   \n",
       "...                      ...                 ...                 ...   \n",
       "11128045            0.000000                 0.0                 0.0   \n",
       "11128046            0.000000                 0.0                 0.0   \n",
       "11128047            0.000000                 0.0                 0.0   \n",
       "11128048            0.000000                 1.0                 0.0   \n",
       "11128049            0.825684                 0.0                 0.0   \n",
       "\n",
       "          item_name_tfidf_22  item_name_tfidf_23  item_name_tfidf_24  \n",
       "0                        0.0                 0.0                 0.0  \n",
       "1                        0.0                 0.0                 0.0  \n",
       "2                        0.0                 0.0                 0.0  \n",
       "3                        0.0                 0.0                 0.0  \n",
       "4                        0.0                 0.0                 0.0  \n",
       "...                      ...                 ...                 ...  \n",
       "11128045                 0.0                 0.0                 0.0  \n",
       "11128046                 0.0                 0.0                 0.0  \n",
       "11128047                 0.0                 0.0                 0.0  \n",
       "11128048                 0.0                 0.0                 0.0  \n",
       "11128049                 0.0                 0.0                 0.0  \n",
       "\n",
       "[11128050 rows x 55 columns]>"
      ]
     },
     "execution_count": 40,
     "metadata": {},
     "output_type": "execute_result"
    }
   ],
   "source": [
    "train_test_set.describe"
   ]
  },
  {
   "cell_type": "code",
   "execution_count": 41,
   "metadata": {},
   "outputs": [],
   "source": [
    "if kernel_with_output:\n",
    "    current = time.time()\n",
    "\n",
    "    baseline_features = ['shop_id', 'item_id', 'item_category_id', 'date_block_num'] +  new_features + ['item_cnt_month']\n",
    "\n",
    "    # Clipping to range 0-20\n",
    "    train_test_set['item_cnt_month'] = train_test_set.item_cnt_month.fillna(0).clip(0,20)\n",
    "\n",
    "    # train: want rows with date_block_num from 0 to 31\n",
    "    train_time_range_lo = (train_test_set['date_block_num'] >= 0)\n",
    "    train_time_range_hi =  (train_test_set['date_block_num'] <= 32)\n",
    "\n",
    "    # val: want rows with date_block_num from 22\n",
    "    validation_time =  (train_test_set['date_block_num'] == 33)\n",
    "\n",
    "    # test: want rows with date_block_num from 34\n",
    "    test_time =  (train_test_set['date_block_num'] == 34)\n",
    "\n",
    "\n",
    "    # Retrieve rows for train set, val set, test set\n",
    "    cv_trainset = train_test_set[train_time_range_lo & train_time_range_hi]\n",
    "    cv_valset = train_test_set[validation_time]\n",
    "    cv_trainset = cv_trainset[baseline_features]\n",
    "    cv_valset = cv_valset[baseline_features]\n",
    "    testset = train_test_set[test_time]\n",
    "    testset = testset[baseline_features]\n",
    "\n",
    "  "
   ]
  },
  {
   "cell_type": "code",
   "execution_count": 42,
   "metadata": {},
   "outputs": [
    {
     "ename": "AttributeError",
     "evalue": "'list' object has no attribute 'dtype'",
     "output_type": "error",
     "traceback": [
      "\u001b[0;31m---------------------------------------------------------------------------\u001b[0m",
      "\u001b[0;31mAttributeError\u001b[0m                            Traceback (most recent call last)",
      "\u001b[0;32m<ipython-input-42-4db296634618>\u001b[0m in \u001b[0;36m<module>\u001b[0;34m\u001b[0m\n\u001b[0;32m----> 1\u001b[0;31m \u001b[0mnew_features\u001b[0m\u001b[0;34m.\u001b[0m\u001b[0mdtype\u001b[0m\u001b[0;34m(\u001b[0m\u001b[0;34m)\u001b[0m\u001b[0;34m\u001b[0m\u001b[0;34m\u001b[0m\u001b[0m\n\u001b[0m",
      "\u001b[0;31mAttributeError\u001b[0m: 'list' object has no attribute 'dtype'"
     ]
    }
   ],
   "source": [
    "new_features.dtype()"
   ]
  },
  {
   "cell_type": "code",
   "execution_count": 43,
   "metadata": {},
   "outputs": [
    {
     "data": {
      "text/plain": [
       "20"
      ]
     },
     "execution_count": 43,
     "metadata": {},
     "output_type": "execute_result"
    }
   ],
   "source": [
    "gc.collect()"
   ]
  },
  {
   "cell_type": "code",
   "execution_count": 44,
   "metadata": {},
   "outputs": [
    {
     "data": {
      "text/plain": [
       "<bound method NDFrame.describe of           shop_id  item_id  item_category_id  date_block_num  \\\n",
       "0              59    22154                11               0   \n",
       "1              25    22154                11               0   \n",
       "2              24    22154                11               0   \n",
       "3              23    22154                11               0   \n",
       "4              19    22154                11               0   \n",
       "...           ...      ...               ...             ...   \n",
       "10892901       28    21937                10              32   \n",
       "10892902       35    21937                10              32   \n",
       "10892903       34    21937                10              32   \n",
       "10892904       26    21937                10              32   \n",
       "10892905       27    21937                10              32   \n",
       "\n",
       "          prev_shopitem_sales_1  prev_shopitem_sales_2  prev_shopitem_sales_3  \\\n",
       "0                           0.0                    0.0                    0.0   \n",
       "1                           0.0                    0.0                    0.0   \n",
       "2                           0.0                    0.0                    0.0   \n",
       "3                           0.0                    0.0                    0.0   \n",
       "4                           0.0                    0.0                    0.0   \n",
       "...                         ...                    ...                    ...   \n",
       "10892901                    0.0                    0.0                    0.0   \n",
       "10892902                    0.0                    0.0                    0.0   \n",
       "10892903                    0.0                    0.0                    0.0   \n",
       "10892904                    0.0                    0.0                    0.0   \n",
       "10892905                    0.0                    0.0                    0.0   \n",
       "\n",
       "          prev_shopitem_sales_4  prev_shopitem_sales_5  prev_shopitem_sales_6  \\\n",
       "0                           0.0                    0.0                    0.0   \n",
       "1                           0.0                    0.0                    0.0   \n",
       "2                           0.0                    0.0                    0.0   \n",
       "3                           0.0                    0.0                    0.0   \n",
       "4                           0.0                    0.0                    0.0   \n",
       "...                         ...                    ...                    ...   \n",
       "10892901                    0.0                    0.0                    0.0   \n",
       "10892902                    0.0                    0.0                    0.0   \n",
       "10892903                    0.0                    0.0                    0.0   \n",
       "10892904                    0.0                    0.0                    0.0   \n",
       "10892905                    0.0                    0.0                    0.0   \n",
       "\n",
       "          prev_shopitem_sales_7  prev_shopitem_sales_8  prev_shopitem_sales_9  \\\n",
       "0                           0.0                    0.0                    0.0   \n",
       "1                           0.0                    0.0                    0.0   \n",
       "2                           0.0                    0.0                    0.0   \n",
       "3                           0.0                    0.0                    0.0   \n",
       "4                           0.0                    0.0                    0.0   \n",
       "...                         ...                    ...                    ...   \n",
       "10892901                    0.0                    0.0                    0.0   \n",
       "10892902                    0.0                    0.0                    0.0   \n",
       "10892903                    0.0                    0.0                    0.0   \n",
       "10892904                    0.0                    0.0                    0.0   \n",
       "10892905                    0.0                    0.0                    0.0   \n",
       "\n",
       "          prev_shopitem_sales_10  prev_shopitem_sales_11  \\\n",
       "0                            0.0                     0.0   \n",
       "1                            0.0                     0.0   \n",
       "2                            0.0                     0.0   \n",
       "3                            0.0                     0.0   \n",
       "4                            0.0                     0.0   \n",
       "...                          ...                     ...   \n",
       "10892901                     0.0                     0.0   \n",
       "10892902                     0.0                     0.0   \n",
       "10892903                     0.0                     0.0   \n",
       "10892904                     0.0                     0.0   \n",
       "10892905                     0.0                     0.0   \n",
       "\n",
       "          prev_shopitem_sales_12  prev_item_sales_1  prev_item_sales_2  \\\n",
       "0                            0.0                0.0                0.0   \n",
       "1                            0.0                0.0                0.0   \n",
       "2                            0.0                0.0                0.0   \n",
       "3                            0.0                0.0                0.0   \n",
       "4                            0.0                0.0                0.0   \n",
       "...                          ...                ...                ...   \n",
       "10892901                     0.0                0.0                0.0   \n",
       "10892902                     0.0                0.0                0.0   \n",
       "10892903                     0.0                0.0                0.0   \n",
       "10892904                     0.0                0.0                0.0   \n",
       "10892905                     0.0                0.0                0.0   \n",
       "\n",
       "          prev_item_sales_3  prev_item_sales_4  prev_item_sales_5  \\\n",
       "0                       0.0                0.0                0.0   \n",
       "1                       0.0                0.0                0.0   \n",
       "2                       0.0                0.0                0.0   \n",
       "3                       0.0                0.0                0.0   \n",
       "4                       0.0                0.0                0.0   \n",
       "...                     ...                ...                ...   \n",
       "10892901                0.0                0.0                0.0   \n",
       "10892902                0.0                0.0                0.0   \n",
       "10892903                0.0                0.0                0.0   \n",
       "10892904                0.0                0.0                0.0   \n",
       "10892905                0.0                0.0                0.0   \n",
       "\n",
       "          prev_item_sales_6  prev_item_sales_7  prev_item_sales_8  \\\n",
       "0                       0.0                0.0                0.0   \n",
       "1                       0.0                0.0                0.0   \n",
       "2                       0.0                0.0                0.0   \n",
       "3                       0.0                0.0                0.0   \n",
       "4                       0.0                0.0                0.0   \n",
       "...                     ...                ...                ...   \n",
       "10892901                0.0                0.0                0.0   \n",
       "10892902                0.0                0.0                0.0   \n",
       "10892903                0.0                0.0                0.0   \n",
       "10892904                0.0                0.0                0.0   \n",
       "10892905                0.0                0.0                0.0   \n",
       "\n",
       "          prev_item_sales_9  prev_item_sales_10  prev_item_sales_11  \\\n",
       "0                       0.0                 0.0                 0.0   \n",
       "1                       0.0                 0.0                 0.0   \n",
       "2                       0.0                 0.0                 0.0   \n",
       "3                       0.0                 0.0                 0.0   \n",
       "4                       0.0                 0.0                 0.0   \n",
       "...                     ...                 ...                 ...   \n",
       "10892901                0.0                 0.0                 0.0   \n",
       "10892902                0.0                 0.0                 0.0   \n",
       "10892903                0.0                 0.0                 0.0   \n",
       "10892904                0.0                 0.0                 0.0   \n",
       "10892905                0.0                 0.0                 0.0   \n",
       "\n",
       "          prev_item_sales_12  item_name_tfidf_0  item_name_tfidf_1  \\\n",
       "0                        0.0                0.0                0.0   \n",
       "1                        0.0                0.0                0.0   \n",
       "2                        0.0                0.0                0.0   \n",
       "3                        0.0                0.0                0.0   \n",
       "4                        0.0                0.0                0.0   \n",
       "...                      ...                ...                ...   \n",
       "10892901                 0.0                0.0                0.0   \n",
       "10892902                 0.0                0.0                0.0   \n",
       "10892903                 0.0                0.0                0.0   \n",
       "10892904                 0.0                0.0                0.0   \n",
       "10892905                 0.0                0.0                0.0   \n",
       "\n",
       "          item_name_tfidf_2  item_name_tfidf_3  item_name_tfidf_4  \\\n",
       "0                       0.0                1.0                0.0   \n",
       "1                       0.0                1.0                0.0   \n",
       "2                       0.0                1.0                0.0   \n",
       "3                       0.0                1.0                0.0   \n",
       "4                       0.0                1.0                0.0   \n",
       "...                     ...                ...                ...   \n",
       "10892901                0.0                0.0                0.0   \n",
       "10892902                0.0                0.0                0.0   \n",
       "10892903                0.0                0.0                0.0   \n",
       "10892904                0.0                0.0                0.0   \n",
       "10892905                0.0                0.0                0.0   \n",
       "\n",
       "          item_name_tfidf_5  item_name_tfidf_6  item_name_tfidf_7  \\\n",
       "0                       0.0                0.0                0.0   \n",
       "1                       0.0                0.0                0.0   \n",
       "2                       0.0                0.0                0.0   \n",
       "3                       0.0                0.0                0.0   \n",
       "4                       0.0                0.0                0.0   \n",
       "...                     ...                ...                ...   \n",
       "10892901                0.0                0.0                0.0   \n",
       "10892902                0.0                0.0                0.0   \n",
       "10892903                0.0                0.0                0.0   \n",
       "10892904                0.0                0.0                0.0   \n",
       "10892905                0.0                0.0                0.0   \n",
       "\n",
       "          item_name_tfidf_8  item_name_tfidf_9  item_name_tfidf_10  \\\n",
       "0                       0.0                0.0                 0.0   \n",
       "1                       0.0                0.0                 0.0   \n",
       "2                       0.0                0.0                 0.0   \n",
       "3                       0.0                0.0                 0.0   \n",
       "4                       0.0                0.0                 0.0   \n",
       "...                     ...                ...                 ...   \n",
       "10892901                0.0                0.0                 0.0   \n",
       "10892902                0.0                0.0                 0.0   \n",
       "10892903                0.0                0.0                 0.0   \n",
       "10892904                0.0                0.0                 0.0   \n",
       "10892905                0.0                0.0                 0.0   \n",
       "\n",
       "          item_name_tfidf_11  item_name_tfidf_12  item_name_tfidf_13  \\\n",
       "0                        0.0                 0.0                 0.0   \n",
       "1                        0.0                 0.0                 0.0   \n",
       "2                        0.0                 0.0                 0.0   \n",
       "3                        0.0                 0.0                 0.0   \n",
       "4                        0.0                 0.0                 0.0   \n",
       "...                      ...                 ...                 ...   \n",
       "10892901                 0.0                 0.0                 0.0   \n",
       "10892902                 0.0                 0.0                 0.0   \n",
       "10892903                 0.0                 0.0                 0.0   \n",
       "10892904                 0.0                 0.0                 0.0   \n",
       "10892905                 0.0                 0.0                 0.0   \n",
       "\n",
       "          item_name_tfidf_14  item_name_tfidf_15  item_name_tfidf_16  \\\n",
       "0                        0.0                 0.0                 0.0   \n",
       "1                        0.0                 0.0                 0.0   \n",
       "2                        0.0                 0.0                 0.0   \n",
       "3                        0.0                 0.0                 0.0   \n",
       "4                        0.0                 0.0                 0.0   \n",
       "...                      ...                 ...                 ...   \n",
       "10892901                 0.0                 0.0                 0.0   \n",
       "10892902                 0.0                 0.0                 0.0   \n",
       "10892903                 0.0                 0.0                 0.0   \n",
       "10892904                 0.0                 0.0                 0.0   \n",
       "10892905                 0.0                 0.0                 0.0   \n",
       "\n",
       "          item_name_tfidf_17  item_name_tfidf_18  item_name_tfidf_19  \\\n",
       "0                        0.0                 0.0                 0.0   \n",
       "1                        0.0                 0.0                 0.0   \n",
       "2                        0.0                 0.0                 0.0   \n",
       "3                        0.0                 0.0                 0.0   \n",
       "4                        0.0                 0.0                 0.0   \n",
       "...                      ...                 ...                 ...   \n",
       "10892901                 0.0                 0.0                 0.0   \n",
       "10892902                 0.0                 0.0                 0.0   \n",
       "10892903                 0.0                 0.0                 0.0   \n",
       "10892904                 0.0                 0.0                 0.0   \n",
       "10892905                 0.0                 0.0                 0.0   \n",
       "\n",
       "          item_name_tfidf_20  item_name_tfidf_21  item_name_tfidf_22  \\\n",
       "0                        0.0                 0.0                 0.0   \n",
       "1                        0.0                 0.0                 0.0   \n",
       "2                        0.0                 0.0                 0.0   \n",
       "3                        0.0                 0.0                 0.0   \n",
       "4                        0.0                 0.0                 0.0   \n",
       "...                      ...                 ...                 ...   \n",
       "10892901                 0.0                 0.0                 0.0   \n",
       "10892902                 0.0                 0.0                 0.0   \n",
       "10892903                 0.0                 0.0                 0.0   \n",
       "10892904                 0.0                 0.0                 0.0   \n",
       "10892905                 0.0                 0.0                 0.0   \n",
       "\n",
       "          item_name_tfidf_23  item_name_tfidf_24  item_cnt_month  \n",
       "0                        0.0                 0.0             1.0  \n",
       "1                        0.0                 0.0             5.0  \n",
       "2                        0.0                 0.0             1.0  \n",
       "3                        0.0                 0.0             0.0  \n",
       "4                        0.0                 0.0             0.0  \n",
       "...                      ...                 ...             ...  \n",
       "10892901                 0.0                 0.0             0.0  \n",
       "10892902                 0.0                 0.0             0.0  \n",
       "10892903                 0.0                 0.0             0.0  \n",
       "10892904                 0.0                 0.0             0.0  \n",
       "10892905                 0.0                 0.0             0.0  \n",
       "\n",
       "[10675678 rows x 54 columns]>"
      ]
     },
     "execution_count": 44,
     "metadata": {},
     "output_type": "execute_result"
    }
   ],
   "source": [
    "cv_trainset.describe"
   ]
  },
  {
   "cell_type": "code",
   "execution_count": null,
   "metadata": {},
   "outputs": [],
   "source": []
  },
  {
   "cell_type": "code",
   "execution_count": 45,
   "metadata": {},
   "outputs": [],
   "source": [
    "del train_test_set"
   ]
  },
  {
   "cell_type": "code",
   "execution_count": 46,
   "metadata": {},
   "outputs": [
    {
     "data": {
      "text/plain": [
       "60"
      ]
     },
     "execution_count": 46,
     "metadata": {},
     "output_type": "execute_result"
    }
   ],
   "source": [
    "gc.collect()"
   ]
  },
  {
   "cell_type": "code",
   "execution_count": 47,
   "metadata": {},
   "outputs": [],
   "source": [
    "del train_time_range_hi"
   ]
  },
  {
   "cell_type": "code",
   "execution_count": 48,
   "metadata": {},
   "outputs": [
    {
     "data": {
      "text/plain": [
       "40"
      ]
     },
     "execution_count": 48,
     "metadata": {},
     "output_type": "execute_result"
    }
   ],
   "source": [
    "gc.collect()"
   ]
  },
  {
   "cell_type": "code",
   "execution_count": 49,
   "metadata": {},
   "outputs": [
    {
     "name": "stdout",
     "output_type": "stream",
     "text": [
      "Fitting...\n"
     ]
    }
   ],
   "source": [
    "if kernel_with_output:\n",
    "    # Prepare numpy arrays for training/val/test\n",
    "    cv_trainset_vals = cv_trainset.values.astype(int)\n",
    "    trainx = cv_trainset_vals[:, 0:len(baseline_features) - 1]\n",
    "    trainy = cv_trainset_vals[:, len(baseline_features) - 1]\n",
    "\n",
    "    cv_valset_vals = cv_valset.values.astype(int)\n",
    "    valx = cv_valset_vals[:, 0:len(baseline_features) - 1]\n",
    "    valy = cv_valset_vals[:, len(baseline_features) - 1]\n",
    "\n",
    "    testset_vals = testset.values.astype(int)\n",
    "    testx = testset_vals[:, 0:len(baseline_features) - 1]\n",
    "    print('Fitting...')\n",
    "   \n",
    "    "
   ]
  },
  {
   "cell_type": "code",
   "execution_count": 50,
   "metadata": {},
   "outputs": [
    {
     "data": {
      "text/plain": [
       "40"
      ]
     },
     "execution_count": 50,
     "metadata": {},
     "output_type": "execute_result"
    }
   ],
   "source": [
    "gc.collect()"
   ]
  },
  {
   "cell_type": "code",
   "execution_count": 51,
   "metadata": {},
   "outputs": [],
   "source": [
    "hyper_params = {\n",
    "    'task': 'train',\n",
    "    'boosting_type': 'gbdt',\n",
    "    'objective': 'regression',\n",
    "    'metric': ['l2', 'auc'],\n",
    "    'learning_rate': 0.05,\n",
    "    'feature_fraction': 0.9,\n",
    "    'bagging_fraction': 0.7,\n",
    "    'bagging_freq': 10,\n",
    "    'verbose': 0,\n",
    "    \"max_depth\": 8,\n",
    "    \"num_leaves\": 128,  \n",
    "    \"max_bin\": 512,\n",
    "    \"n_estimators\": 1000\n",
    "}"
   ]
  },
  {
   "cell_type": "code",
   "execution_count": 52,
   "metadata": {},
   "outputs": [
    {
     "data": {
      "text/plain": [
       "40"
      ]
     },
     "execution_count": 52,
     "metadata": {},
     "output_type": "execute_result"
    }
   ],
   "source": [
    "gc.collect()"
   ]
  },
  {
   "cell_type": "code",
   "execution_count": 53,
   "metadata": {},
   "outputs": [
    {
     "name": "stdout",
     "output_type": "stream",
     "text": [
      "Done for god sake\n"
     ]
    }
   ],
   "source": [
    "if kernel_with_output:    \n",
    "    #model = xgb.XGBRegressor(max_depth = 11, min_child_weight=0.5, subsample = 1, eta = 0.3, num_round = 1000, seed = 1, nthread = 16)\n",
    "    model = lgb.LGBMRegressor(**hyper_params)\n",
    "\n",
    "    model.fit(trainx, trainy, eval_metric='rmse')\n",
    "    print(\"Done for god sake\")\n",
    "\n",
    "\n",
    "    "
   ]
  },
  {
   "cell_type": "code",
   "execution_count": 54,
   "metadata": {},
   "outputs": [
    {
     "name": "stdout",
     "output_type": "stream",
     "text": [
      "val set rmse:  0.9831495612502951\n",
      "test predictions written to file\n",
      "Took 1078 seconds to train and predict val, test set\n"
     ]
    }
   ],
   "source": [
    "if kernel_with_output:     \n",
    "    preds = model.predict(valx)\n",
    "    # Clipping to range 0-20\n",
    "    preds = np.clip(preds, 0,20)\n",
    "    print('val set rmse: ', sqrt(mean_squared_error(valy, preds)))\n",
    "\n",
    "    preds = model.predict(testx)\n",
    "    # Clipping to range 0-20\n",
    "    preds = np.clip(preds, 0,20)\n",
    "    df = pd.DataFrame(preds, columns = ['item_cnt_month'])\n",
    "    df['ID'] = df.index\n",
    "    df = df.set_index('ID')\n",
    "    df.to_csv('test_preds.csv')\n",
    "    print('test predictions written to file')\n",
    "\n",
    "    end = time.time()\n",
    "    diff = end - current\n",
    "    print('Took ' + str(int(diff)) + ' seconds to train and predict val, test set')"
   ]
  },
  {
   "cell_type": "code",
   "execution_count": null,
   "metadata": {},
   "outputs": [],
   "source": []
  }
 ],
 "metadata": {
  "kernelspec": {
   "display_name": "Python 3",
   "language": "python",
   "name": "python3"
  },
  "language_info": {
   "codemirror_mode": {
    "name": "ipython",
    "version": 3
   },
   "file_extension": ".py",
   "mimetype": "text/x-python",
   "name": "python",
   "nbconvert_exporter": "python",
   "pygments_lexer": "ipython3",
   "version": "3.7.6"
  }
 },
 "nbformat": 4,
 "nbformat_minor": 4
}
